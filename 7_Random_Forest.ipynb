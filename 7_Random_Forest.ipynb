{
  "nbformat": 4,
  "nbformat_minor": 0,
  "metadata": {
    "anaconda-cloud": {},
    "kernelspec": {
      "display_name": "Python [conda env:Anaconda3]",
      "language": "python",
      "name": "conda-env-Anaconda3-py"
    },
    "language_info": {
      "codemirror_mode": {
        "name": "ipython",
        "version": 3
      },
      "file_extension": ".py",
      "mimetype": "text/x-python",
      "name": "python",
      "nbconvert_exporter": "python",
      "pygments_lexer": "ipython3",
      "version": "3.5.6"
    },
    "colab": {
      "name": "7. Random Forest.ipynb",
      "provenance": [],
      "include_colab_link": true
    }
  },
  "cells": [
    {
      "cell_type": "markdown",
      "metadata": {
        "id": "view-in-github",
        "colab_type": "text"
      },
      "source": [
        "<a href=\"https://colab.research.google.com/github/annhadoop/100-Days-Of-ML-Code/blob/master/7_Random_Forest.ipynb\" target=\"_parent\"><img src=\"https://colab.research.google.com/assets/colab-badge.svg\" alt=\"Open In Colab\"/></a>"
      ]
    },
    {
      "cell_type": "markdown",
      "metadata": {
        "id": "PHzeCgEYCRYG",
        "colab_type": "text"
      },
      "source": [
        "<img src=\"Images/PU.png\" width=\"100%\">\n",
        "\n",
        "### Course Name : ML 501 Practical Machine Learning  \n",
        "#### Notebook compiled by : Rajiv Kale, Consultant at Learning and Development  \n",
        "** Important ! ** For internal circulation only"
      ]
    },
    {
      "cell_type": "markdown",
      "metadata": {
        "id": "8UqpWfkMCRYI",
        "colab_type": "text"
      },
      "source": [
        "# Random Forest \n",
        "<img src=\"Images/Random_Forest.jpg\" width=\"100%\">"
      ]
    },
    {
      "cell_type": "code",
      "metadata": {
        "id": "maBStmaMCRYK",
        "colab_type": "code",
        "colab": {}
      },
      "source": [
        "from sklearn.ensemble import RandomForestClassifier\n",
        "from sklearn import datasets\n"
      ],
      "execution_count": 0,
      "outputs": []
    },
    {
      "cell_type": "code",
      "metadata": {
        "id": "k9mqzg_oCRYO",
        "colab_type": "code",
        "colab": {}
      },
      "source": [
        "dataset = datasets.load_iris()"
      ],
      "execution_count": 0,
      "outputs": []
    },
    {
      "cell_type": "code",
      "metadata": {
        "id": "VZ-3iFdaCRYQ",
        "colab_type": "code",
        "colab": {}
      },
      "source": [
        "#from sklearn.cross_validation import train_test_split\n",
        "from sklearn.model_selection import train_test_split"
      ],
      "execution_count": 0,
      "outputs": []
    },
    {
      "cell_type": "code",
      "metadata": {
        "id": "-upioHlrCRYT",
        "colab_type": "code",
        "colab": {}
      },
      "source": [
        "X_train, X_test, y_train, y_test = train_test_split(dataset.data, dataset.target, test_size=0.3, random_state=0)"
      ],
      "execution_count": 0,
      "outputs": []
    },
    {
      "cell_type": "code",
      "metadata": {
        "id": "0muiGymYCRYW",
        "colab_type": "code",
        "colab": {},
        "outputId": "ba768487-9b39-4a2c-bfc1-5f50132e1cb1"
      },
      "source": [
        "forest = RandomForestClassifier(criterion='gini',n_estimators=100)\n",
        "forest.fit(X_train, y_train)\n",
        "forest.score(X_train,y_train)\n"
      ],
      "execution_count": 0,
      "outputs": [
        {
          "output_type": "execute_result",
          "data": {
            "text/plain": [
              "1.0"
            ]
          },
          "metadata": {
            "tags": []
          },
          "execution_count": 5
        }
      ]
    },
    {
      "cell_type": "code",
      "metadata": {
        "id": "B9WajlA3CRYa",
        "colab_type": "code",
        "colab": {},
        "outputId": "c7b43be2-3f22-47aa-e77d-7b9c2e3ac357"
      },
      "source": [
        "forest.score(X_test,y_test)"
      ],
      "execution_count": 0,
      "outputs": [
        {
          "output_type": "execute_result",
          "data": {
            "text/plain": [
              "0.9777777777777777"
            ]
          },
          "metadata": {
            "tags": []
          },
          "execution_count": 6
        }
      ]
    },
    {
      "cell_type": "code",
      "metadata": {
        "id": "USffSMFNCRYd",
        "colab_type": "code",
        "colab": {}
      },
      "source": [
        ""
      ],
      "execution_count": 0,
      "outputs": []
    }
  ]
}
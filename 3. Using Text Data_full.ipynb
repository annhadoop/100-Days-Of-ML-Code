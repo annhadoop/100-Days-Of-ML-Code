{
 "cells": [
  {
   "cell_type": "markdown",
   "metadata": {},
   "source": [
    "<img src=\"Images/PU.png\" width=\"100%\">\n",
    "\n",
    "### Course Name : Python for Data Analysis  \n",
    "#### Notebook compiled by : Rajiv Kale, Consultant at Learning and Development  \n",
    "** Important ! ** For internal circulation only"
   ]
  },
  {
   "cell_type": "markdown",
   "metadata": {},
   "source": [
    "# Extracting features from the Text\n",
    "Many machine learning applications like sentiment analysis, text data is used as explanatory variable. Text must be converted to a different representation that captures as much of its information  as possible in a feature vector.\n",
    "<img src=\"Images/Text_Data.png\" width=\"80%\">\n"
   ]
  },
  {
   "cell_type": "markdown",
   "metadata": {},
   "source": [
    "# The bag-of-words representation\n",
    "\n",
    "Let’s assume that, we are working on document classification problem. The collection of all the documents is called as Corpus."
   ]
  },
  {
   "cell_type": "code",
   "execution_count": 1,
   "metadata": {},
   "outputs": [],
   "source": [
    "X = [\"Hackethon program was challenging and we enjoyed every bit of it\",\n",
    "     \"Amazing initiative as Hackethon brings out best from innovaters\"]"
   ]
  },
  {
   "cell_type": "code",
   "execution_count": 2,
   "metadata": {},
   "outputs": [
    {
     "data": {
      "text/plain": [
       "2"
      ]
     },
     "execution_count": 2,
     "metadata": {},
     "output_type": "execute_result"
    }
   ],
   "source": [
    "len(X)"
   ]
  },
  {
   "cell_type": "markdown",
   "metadata": {},
   "source": [
    "In Scikit, there is an encoder to score words based on their count called CountVectorizer, one for using a hash function of each word to reduce the vector length called HashingVectorizer, and a one that uses a score based on word occurrence in the document and the inverse occurrence across all documents called TfidfVectorizer"
   ]
  },
  {
   "cell_type": "code",
   "execution_count": 3,
   "metadata": {},
   "outputs": [
    {
     "data": {
      "text/plain": [
       "CountVectorizer(analyzer='word', binary=False, decode_error='strict',\n",
       "        dtype=<class 'numpy.int64'>, encoding='utf-8', input='content',\n",
       "        lowercase=True, max_df=1.0, max_features=None, min_df=1,\n",
       "        ngram_range=(1, 1), preprocessor=None, stop_words=None,\n",
       "        strip_accents=None, token_pattern='(?u)\\\\b\\\\w\\\\w+\\\\b',\n",
       "        tokenizer=None, vocabulary=None)"
      ]
     },
     "execution_count": 3,
     "metadata": {},
     "output_type": "execute_result"
    }
   ],
   "source": [
    "from sklearn.feature_extraction.text import CountVectorizer\n",
    "\n",
    "vectorizer = CountVectorizer()\n",
    "vectorizer.fit(X)"
   ]
  },
  {
   "cell_type": "code",
   "execution_count": 4,
   "metadata": {},
   "outputs": [
    {
     "data": {
      "text/plain": [
       "{'amazing': 0,\n",
       " 'and': 1,\n",
       " 'as': 2,\n",
       " 'best': 3,\n",
       " 'bit': 4,\n",
       " 'brings': 5,\n",
       " 'challenging': 6,\n",
       " 'enjoyed': 7,\n",
       " 'every': 8,\n",
       " 'from': 9,\n",
       " 'hackethon': 10,\n",
       " 'initiative': 11,\n",
       " 'innovaters': 12,\n",
       " 'it': 13,\n",
       " 'of': 14,\n",
       " 'out': 15,\n",
       " 'program': 16,\n",
       " 'was': 17,\n",
       " 'we': 18}"
      ]
     },
     "execution_count": 4,
     "metadata": {},
     "output_type": "execute_result"
    }
   ],
   "source": [
    "vectorizer.vocabulary_"
   ]
  },
  {
   "cell_type": "code",
   "execution_count": 5,
   "metadata": {},
   "outputs": [
    {
     "data": {
      "text/plain": [
       "<2x19 sparse matrix of type '<class 'numpy.int64'>'\n",
       "\twith 20 stored elements in Compressed Sparse Row format>"
      ]
     },
     "execution_count": 5,
     "metadata": {},
     "output_type": "execute_result"
    }
   ],
   "source": [
    "X_bag_of_words = vectorizer.transform(X)\n",
    "X_bag_of_words"
   ]
  },
  {
   "cell_type": "code",
   "execution_count": 6,
   "metadata": {},
   "outputs": [
    {
     "data": {
      "text/plain": [
       "(2, 19)"
      ]
     },
     "execution_count": 6,
     "metadata": {},
     "output_type": "execute_result"
    }
   ],
   "source": [
    "X_bag_of_words.shape"
   ]
  },
  {
   "cell_type": "code",
   "execution_count": 7,
   "metadata": {},
   "outputs": [
    {
     "data": {
      "text/plain": [
       "array([[0, 1, 0, 0, 1, 0, 1, 1, 1, 0, 1, 0, 0, 1, 1, 0, 1, 1, 1],\n",
       "       [1, 0, 1, 1, 0, 1, 0, 0, 0, 1, 1, 1, 1, 0, 0, 1, 0, 0, 0]],\n",
       "      dtype=int64)"
      ]
     },
     "execution_count": 7,
     "metadata": {},
     "output_type": "execute_result"
    }
   ],
   "source": [
    "X_bag_of_words.toarray()"
   ]
  },
  {
   "cell_type": "markdown",
   "metadata": {},
   "source": [
    "### Adding stop words"
   ]
  },
  {
   "cell_type": "code",
   "execution_count": 8,
   "metadata": {},
   "outputs": [],
   "source": [
    "#my_list=['is','of']\n",
    "my_list=['was','from', 'of', 'and']"
   ]
  },
  {
   "cell_type": "code",
   "execution_count": 9,
   "metadata": {},
   "outputs": [
    {
     "data": {
      "text/plain": [
       "CountVectorizer(analyzer='word', binary=False, decode_error='strict',\n",
       "        dtype=<class 'numpy.int64'>, encoding='utf-8', input='content',\n",
       "        lowercase=True, max_df=1.0, max_features=None, min_df=1,\n",
       "        ngram_range=(1, 1), preprocessor=None,\n",
       "        stop_words=['was', 'from', 'of', 'and'], strip_accents=None,\n",
       "        token_pattern='(?u)\\\\b\\\\w\\\\w+\\\\b', tokenizer=None, vocabulary=None)"
      ]
     },
     "execution_count": 9,
     "metadata": {},
     "output_type": "execute_result"
    }
   ],
   "source": [
    "\n",
    "vectorizer = CountVectorizer(stop_words=my_list)\n",
    "vectorizer.fit(X)"
   ]
  },
  {
   "cell_type": "code",
   "execution_count": 10,
   "metadata": {},
   "outputs": [
    {
     "data": {
      "text/plain": [
       "{'amazing': 0,\n",
       " 'as': 1,\n",
       " 'best': 2,\n",
       " 'bit': 3,\n",
       " 'brings': 4,\n",
       " 'challenging': 5,\n",
       " 'enjoyed': 6,\n",
       " 'every': 7,\n",
       " 'hackethon': 8,\n",
       " 'initiative': 9,\n",
       " 'innovaters': 10,\n",
       " 'it': 11,\n",
       " 'out': 12,\n",
       " 'program': 13,\n",
       " 'we': 14}"
      ]
     },
     "execution_count": 10,
     "metadata": {},
     "output_type": "execute_result"
    }
   ],
   "source": [
    "vectorizer.vocabulary_"
   ]
  },
  {
   "cell_type": "code",
   "execution_count": 11,
   "metadata": {},
   "outputs": [
    {
     "name": "stdout",
     "output_type": "stream",
     "text": [
      "(2, 15)\n"
     ]
    },
    {
     "data": {
      "text/plain": [
       "array([[0, 0, 0, 1, 0, 1, 1, 1, 1, 0, 0, 1, 0, 1, 1],\n",
       "       [1, 1, 1, 0, 1, 0, 0, 0, 1, 1, 1, 0, 1, 0, 0]], dtype=int64)"
      ]
     },
     "execution_count": 11,
     "metadata": {},
     "output_type": "execute_result"
    }
   ],
   "source": [
    "X_bag_of_words = vectorizer.transform(X)\n",
    "print(X_bag_of_words.shape)\n",
    "X_bag_of_words.toarray()"
   ]
  },
  {
   "cell_type": "markdown",
   "metadata": {},
   "source": [
    "# Finding Important Words in Text Using TF-IDF\n",
    "TF-IDF stands for \"Term Frequency, Inverse Document Frequency\". It is a way to score the importance of words (or \"terms\") in a document based on how frequently they appear across multiple documents.\n",
    "\n",
    "+ If a word appears frequently in a document, it's important. Give the word a high score.\n",
    "+ But if a word appears in many documents, it's not a unique identifier. Give the word a low score.\n",
    "\n",
    "Please find more math details [here](http://scikit-learn.org/stable/modules/feature_extraction.html#text-feature-extraction)"
   ]
  },
  {
   "cell_type": "code",
   "execution_count": 12,
   "metadata": {},
   "outputs": [
    {
     "data": {
      "text/plain": [
       "TfidfVectorizer(analyzer='word', binary=False, decode_error='strict',\n",
       "        dtype=<class 'numpy.float64'>, encoding='utf-8', input='content',\n",
       "        lowercase=True, max_df=1.0, max_features=None, min_df=1,\n",
       "        ngram_range=(1, 1), norm='l2', preprocessor=None, smooth_idf=True,\n",
       "        stop_words=None, strip_accents=None, sublinear_tf=False,\n",
       "        token_pattern='(?u)\\\\b\\\\w\\\\w+\\\\b', tokenizer=None, use_idf=True,\n",
       "        vocabulary=None)"
      ]
     },
     "execution_count": 12,
     "metadata": {},
     "output_type": "execute_result"
    }
   ],
   "source": [
    "from sklearn.feature_extraction.text import TfidfVectorizer\n",
    "\n",
    "tfidf_vectorizer = TfidfVectorizer()\n",
    "tfidf_vectorizer.fit(X)"
   ]
  },
  {
   "cell_type": "code",
   "execution_count": 13,
   "metadata": {},
   "outputs": [
    {
     "name": "stdout",
     "output_type": "stream",
     "text": [
      "[[0.   0.31 0.   0.   0.31 0.   0.31 0.31 0.31 0.   0.22 0.   0.   0.31\n",
      "  0.31 0.   0.31 0.31 0.31]\n",
      " [0.34 0.   0.34 0.34 0.   0.34 0.   0.   0.   0.34 0.24 0.34 0.34 0.\n",
      "  0.   0.34 0.   0.   0.  ]]\n"
     ]
    }
   ],
   "source": [
    "import numpy as np\n",
    "np.set_printoptions(precision=2)\n",
    "\n",
    "print(tfidf_vectorizer.transform(X).toarray())"
   ]
  },
  {
   "cell_type": "markdown",
   "metadata": {},
   "source": [
    "# N-Grams\n",
    "Look for sequence of tokens"
   ]
  },
  {
   "cell_type": "code",
   "execution_count": 14,
   "metadata": {},
   "outputs": [
    {
     "data": {
      "text/plain": [
       "CountVectorizer(analyzer='word', binary=False, decode_error='strict',\n",
       "        dtype=<class 'numpy.int64'>, encoding='utf-8', input='content',\n",
       "        lowercase=True, max_df=1.0, max_features=None, min_df=1,\n",
       "        ngram_range=(2, 3), preprocessor=None, stop_words=None,\n",
       "        strip_accents=None, token_pattern='(?u)\\\\b\\\\w\\\\w+\\\\b',\n",
       "        tokenizer=None, vocabulary=None)"
      ]
     },
     "execution_count": 14,
     "metadata": {},
     "output_type": "execute_result"
    }
   ],
   "source": [
    "Ngram_vectorizer = CountVectorizer(ngram_range=(2, 3))\n",
    "Ngram_vectorizer.fit(X)"
   ]
  },
  {
   "cell_type": "code",
   "execution_count": 15,
   "metadata": {},
   "outputs": [
    {
     "data": {
      "text/plain": [
       "['amazing initiative',\n",
       " 'amazing initiative as',\n",
       " 'and we',\n",
       " 'and we enjoyed',\n",
       " 'as hackethon',\n",
       " 'as hackethon brings',\n",
       " 'best from',\n",
       " 'best from innovaters',\n",
       " 'bit of',\n",
       " 'bit of it',\n",
       " 'brings out',\n",
       " 'brings out best',\n",
       " 'challenging and',\n",
       " 'challenging and we',\n",
       " 'enjoyed every',\n",
       " 'enjoyed every bit',\n",
       " 'every bit',\n",
       " 'every bit of',\n",
       " 'from innovaters',\n",
       " 'hackethon brings',\n",
       " 'hackethon brings out',\n",
       " 'hackethon program',\n",
       " 'hackethon program was',\n",
       " 'initiative as',\n",
       " 'initiative as hackethon',\n",
       " 'of it',\n",
       " 'out best',\n",
       " 'out best from',\n",
       " 'program was',\n",
       " 'program was challenging',\n",
       " 'was challenging',\n",
       " 'was challenging and',\n",
       " 'we enjoyed',\n",
       " 'we enjoyed every']"
      ]
     },
     "execution_count": 15,
     "metadata": {},
     "output_type": "execute_result"
    }
   ],
   "source": [
    "Ngram_vectorizer.get_feature_names()"
   ]
  },
  {
   "cell_type": "code",
   "execution_count": 16,
   "metadata": {},
   "outputs": [
    {
     "data": {
      "text/plain": [
       "array([[0, 0, 1, 1, 0, 0, 0, 0, 1, 1, 0, 0, 1, 1, 1, 1, 1, 1, 0, 0, 0, 1,\n",
       "        1, 0, 0, 1, 0, 0, 1, 1, 1, 1, 1, 1],\n",
       "       [1, 1, 0, 0, 1, 1, 1, 1, 0, 0, 1, 1, 0, 0, 0, 0, 0, 0, 1, 1, 1, 0,\n",
       "        0, 1, 1, 0, 1, 1, 0, 0, 0, 0, 0, 0]], dtype=int64)"
      ]
     },
     "execution_count": 16,
     "metadata": {},
     "output_type": "execute_result"
    }
   ],
   "source": [
    "Ngram_vectorizer.transform(X).toarray()"
   ]
  },
  {
   "cell_type": "markdown",
   "metadata": {},
   "source": [
    "# SMS Spam Collection Data Set\n",
    "\n",
    "\n",
    "The dataset is available at [UCI Machine Learning Repository.](https://archive.ics.uci.edu/ml/datasets/SMS+Spam+Collection) It is a collection of more than ** 5 thousand SMS phone messages.** \n",
    "<img src=\"Images/spam.jpg\" width=\"80%\">"
   ]
  },
  {
   "cell_type": "code",
   "execution_count": 17,
   "metadata": {},
   "outputs": [],
   "source": [
    "import pandas as pd\n",
    "import numpy as np\n",
    "import seaborn as sns"
   ]
  },
  {
   "cell_type": "code",
   "execution_count": 18,
   "metadata": {},
   "outputs": [],
   "source": [
    "import matplotlib.pyplot as plt\n",
    "%matplotlib inline"
   ]
  },
  {
   "cell_type": "code",
   "execution_count": 19,
   "metadata": {},
   "outputs": [
    {
     "data": {
      "text/html": [
       "<div>\n",
       "<style scoped>\n",
       "    .dataframe tbody tr th:only-of-type {\n",
       "        vertical-align: middle;\n",
       "    }\n",
       "\n",
       "    .dataframe tbody tr th {\n",
       "        vertical-align: top;\n",
       "    }\n",
       "\n",
       "    .dataframe thead th {\n",
       "        text-align: right;\n",
       "    }\n",
       "</style>\n",
       "<table border=\"1\" class=\"dataframe\">\n",
       "  <thead>\n",
       "    <tr style=\"text-align: right;\">\n",
       "      <th></th>\n",
       "      <th>label</th>\n",
       "      <th>message</th>\n",
       "    </tr>\n",
       "  </thead>\n",
       "  <tbody>\n",
       "    <tr>\n",
       "      <th>0</th>\n",
       "      <td>ham</td>\n",
       "      <td>Go until jurong point, crazy.. Available only ...</td>\n",
       "    </tr>\n",
       "    <tr>\n",
       "      <th>1</th>\n",
       "      <td>ham</td>\n",
       "      <td>Ok lar... Joking wif u oni...</td>\n",
       "    </tr>\n",
       "    <tr>\n",
       "      <th>2</th>\n",
       "      <td>spam</td>\n",
       "      <td>Free entry in 2 a wkly comp to win FA Cup fina...</td>\n",
       "    </tr>\n",
       "    <tr>\n",
       "      <th>3</th>\n",
       "      <td>ham</td>\n",
       "      <td>U dun say so early hor... U c already then say...</td>\n",
       "    </tr>\n",
       "    <tr>\n",
       "      <th>4</th>\n",
       "      <td>ham</td>\n",
       "      <td>Nah I don't think he goes to usf, he lives aro...</td>\n",
       "    </tr>\n",
       "    <tr>\n",
       "      <th>5</th>\n",
       "      <td>spam</td>\n",
       "      <td>FreeMsg Hey there darling it's been 3 week's n...</td>\n",
       "    </tr>\n",
       "    <tr>\n",
       "      <th>6</th>\n",
       "      <td>ham</td>\n",
       "      <td>Even my brother is not like to speak with me. ...</td>\n",
       "    </tr>\n",
       "    <tr>\n",
       "      <th>7</th>\n",
       "      <td>ham</td>\n",
       "      <td>As per your request 'Melle Melle (Oru Minnamin...</td>\n",
       "    </tr>\n",
       "    <tr>\n",
       "      <th>8</th>\n",
       "      <td>spam</td>\n",
       "      <td>WINNER!! As a valued network customer you have...</td>\n",
       "    </tr>\n",
       "    <tr>\n",
       "      <th>9</th>\n",
       "      <td>spam</td>\n",
       "      <td>Had your mobile 11 months or more? U R entitle...</td>\n",
       "    </tr>\n",
       "    <tr>\n",
       "      <th>10</th>\n",
       "      <td>ham</td>\n",
       "      <td>I'm gonna be home soon and i don't want to tal...</td>\n",
       "    </tr>\n",
       "    <tr>\n",
       "      <th>11</th>\n",
       "      <td>spam</td>\n",
       "      <td>SIX chances to win CASH! From 100 to 20,000 po...</td>\n",
       "    </tr>\n",
       "    <tr>\n",
       "      <th>12</th>\n",
       "      <td>spam</td>\n",
       "      <td>URGENT! You have won a 1 week FREE membership ...</td>\n",
       "    </tr>\n",
       "    <tr>\n",
       "      <th>13</th>\n",
       "      <td>ham</td>\n",
       "      <td>I've been searching for the right words to tha...</td>\n",
       "    </tr>\n",
       "    <tr>\n",
       "      <th>14</th>\n",
       "      <td>ham</td>\n",
       "      <td>I HAVE A DATE ON SUNDAY WITH WILL!!</td>\n",
       "    </tr>\n",
       "    <tr>\n",
       "      <th>15</th>\n",
       "      <td>spam</td>\n",
       "      <td>XXXMobileMovieClub: To use your credit, click ...</td>\n",
       "    </tr>\n",
       "    <tr>\n",
       "      <th>16</th>\n",
       "      <td>ham</td>\n",
       "      <td>Oh k...i'm watching here:)</td>\n",
       "    </tr>\n",
       "    <tr>\n",
       "      <th>17</th>\n",
       "      <td>ham</td>\n",
       "      <td>Eh u remember how 2 spell his name... Yes i di...</td>\n",
       "    </tr>\n",
       "    <tr>\n",
       "      <th>18</th>\n",
       "      <td>ham</td>\n",
       "      <td>Fine if thats the way u feel. Thats the way ...</td>\n",
       "    </tr>\n",
       "    <tr>\n",
       "      <th>19</th>\n",
       "      <td>spam</td>\n",
       "      <td>England v Macedonia - dont miss the goals/team...</td>\n",
       "    </tr>\n",
       "  </tbody>\n",
       "</table>\n",
       "</div>"
      ],
      "text/plain": [
       "   label                                            message\n",
       "0    ham  Go until jurong point, crazy.. Available only ...\n",
       "1    ham                      Ok lar... Joking wif u oni...\n",
       "2   spam  Free entry in 2 a wkly comp to win FA Cup fina...\n",
       "3    ham  U dun say so early hor... U c already then say...\n",
       "4    ham  Nah I don't think he goes to usf, he lives aro...\n",
       "5   spam  FreeMsg Hey there darling it's been 3 week's n...\n",
       "6    ham  Even my brother is not like to speak with me. ...\n",
       "7    ham  As per your request 'Melle Melle (Oru Minnamin...\n",
       "8   spam  WINNER!! As a valued network customer you have...\n",
       "9   spam  Had your mobile 11 months or more? U R entitle...\n",
       "10   ham  I'm gonna be home soon and i don't want to tal...\n",
       "11  spam  SIX chances to win CASH! From 100 to 20,000 po...\n",
       "12  spam  URGENT! You have won a 1 week FREE membership ...\n",
       "13   ham  I've been searching for the right words to tha...\n",
       "14   ham                I HAVE A DATE ON SUNDAY WITH WILL!!\n",
       "15  spam  XXXMobileMovieClub: To use your credit, click ...\n",
       "16   ham                         Oh k...i'm watching here:)\n",
       "17   ham  Eh u remember how 2 spell his name... Yes i di...\n",
       "18   ham  Fine if thats the way u feel. Thats the way ...\n",
       "19  spam  England v Macedonia - dont miss the goals/team..."
      ]
     },
     "execution_count": 19,
     "metadata": {},
     "output_type": "execute_result"
    }
   ],
   "source": [
    "df = pd.read_csv('./Datasets/SMSSpamCollection', sep='\\t', names=[\"label\", \"message\"])\n",
    "df.head(20)"
   ]
  },
  {
   "cell_type": "markdown",
   "metadata": {},
   "source": [
    "### Lets see the composition of the dataset"
   ]
  },
  {
   "cell_type": "code",
   "execution_count": 20,
   "metadata": {},
   "outputs": [
    {
     "data": {
      "image/png": "[encoded data removed]",
      "text/plain": [
       "<Figure size 576x432 with 1 Axes>"
      ]
     },
     "metadata": {
      "needs_background": "light"
     },
     "output_type": "display_data"
    }
   ],
   "source": [
    "plt.figure(figsize=(8,6))\n",
    "sns.set(style=\"whitegrid\", font_scale=1.3)\n",
    "ax=sns.countplot(x=\"label\", data=df, palette=\"hls\")\n",
    "ax.set_title('SMS Spam Collection Data Set');\n"
   ]
  },
  {
   "cell_type": "markdown",
   "metadata": {},
   "source": [
    "Lets add one more coulumn as the length of the SMS's"
   ]
  },
  {
   "cell_type": "code",
   "execution_count": 21,
   "metadata": {},
   "outputs": [
    {
     "data": {
      "text/html": [
       "<div>\n",
       "<style scoped>\n",
       "    .dataframe tbody tr th:only-of-type {\n",
       "        vertical-align: middle;\n",
       "    }\n",
       "\n",
       "    .dataframe tbody tr th {\n",
       "        vertical-align: top;\n",
       "    }\n",
       "\n",
       "    .dataframe thead th {\n",
       "        text-align: right;\n",
       "    }\n",
       "</style>\n",
       "<table border=\"1\" class=\"dataframe\">\n",
       "  <thead>\n",
       "    <tr style=\"text-align: right;\">\n",
       "      <th></th>\n",
       "      <th>label</th>\n",
       "      <th>message</th>\n",
       "      <th>length</th>\n",
       "    </tr>\n",
       "  </thead>\n",
       "  <tbody>\n",
       "    <tr>\n",
       "      <th>0</th>\n",
       "      <td>ham</td>\n",
       "      <td>Go until jurong point, crazy.. Available only ...</td>\n",
       "      <td>111</td>\n",
       "    </tr>\n",
       "    <tr>\n",
       "      <th>1</th>\n",
       "      <td>ham</td>\n",
       "      <td>Ok lar... Joking wif u oni...</td>\n",
       "      <td>29</td>\n",
       "    </tr>\n",
       "    <tr>\n",
       "      <th>2</th>\n",
       "      <td>spam</td>\n",
       "      <td>Free entry in 2 a wkly comp to win FA Cup fina...</td>\n",
       "      <td>155</td>\n",
       "    </tr>\n",
       "    <tr>\n",
       "      <th>3</th>\n",
       "      <td>ham</td>\n",
       "      <td>U dun say so early hor... U c already then say...</td>\n",
       "      <td>49</td>\n",
       "    </tr>\n",
       "    <tr>\n",
       "      <th>4</th>\n",
       "      <td>ham</td>\n",
       "      <td>Nah I don't think he goes to usf, he lives aro...</td>\n",
       "      <td>61</td>\n",
       "    </tr>\n",
       "  </tbody>\n",
       "</table>\n",
       "</div>"
      ],
      "text/plain": [
       "  label                                            message  length\n",
       "0   ham  Go until jurong point, crazy.. Available only ...     111\n",
       "1   ham                      Ok lar... Joking wif u oni...      29\n",
       "2  spam  Free entry in 2 a wkly comp to win FA Cup fina...     155\n",
       "3   ham  U dun say so early hor... U c already then say...      49\n",
       "4   ham  Nah I don't think he goes to usf, he lives aro...      61"
      ]
     },
     "execution_count": 21,
     "metadata": {},
     "output_type": "execute_result"
    }
   ],
   "source": [
    "df['length'] = df['message'].map(lambda text: len(text))\n",
    "df.head()"
   ]
  },
  {
   "cell_type": "code",
   "execution_count": 22,
   "metadata": {},
   "outputs": [
    {
     "data": {
      "text/plain": [
       "<matplotlib.axes._subplots.AxesSubplot at 0x1cf002d0240>"
      ]
     },
     "execution_count": 22,
     "metadata": {},
     "output_type": "execute_result"
    },
    {
     "data": {
      "image/png": "[encoded data removed]",
      "text/plain": [
       "<Figure size 432x288 with 1 Axes>"
      ]
     },
     "metadata": {},
     "output_type": "display_data"
    }
   ],
   "source": [
    "df[\"length\"].hist()"
   ]
  },
  {
   "cell_type": "code",
   "execution_count": 23,
   "metadata": {},
   "outputs": [
    {
     "name": "stdout",
     "output_type": "stream",
     "text": [
      "1085    For me the love should start with attraction.i...\n",
      "Name: message, dtype: object\n"
     ]
    }
   ],
   "source": [
    "print(df[\"message\"][df[\"length\"]>900])"
   ]
  },
  {
   "cell_type": "code",
   "execution_count": 24,
   "metadata": {},
   "outputs": [
    {
     "data": {
      "image/png": "[encoded data removed]",
      "text/plain": [
       "<Figure size 432x288 with 2 Axes>"
      ]
     },
     "metadata": {},
     "output_type": "display_data"
    }
   ],
   "source": [
    "df.hist(column='length', by='label', bins=50);"
   ]
  },
  {
   "cell_type": "markdown",
   "metadata": {},
   "source": [
    "# Converting Text into Vectors "
   ]
  },
  {
   "cell_type": "code",
   "execution_count": 25,
   "metadata": {},
   "outputs": [
    {
     "data": {
      "text/plain": [
       "CountVectorizer(analyzer='word', binary=False, decode_error='strict',\n",
       "        dtype=<class 'numpy.int64'>, encoding='utf-8', input='content',\n",
       "        lowercase=True, max_df=1.0, max_features=None, min_df=1,\n",
       "        ngram_range=(1, 1), preprocessor=None, stop_words=None,\n",
       "        strip_accents=None, token_pattern='(?u)\\\\b\\\\w\\\\w+\\\\b',\n",
       "        tokenizer=None, vocabulary=None)"
      ]
     },
     "execution_count": 25,
     "metadata": {},
     "output_type": "execute_result"
    }
   ],
   "source": [
    "from sklearn.feature_extraction.text import CountVectorizer\n",
    "\n",
    "vectorizer = CountVectorizer()\n",
    "vectorizer.fit(df[\"message\"])"
   ]
  },
  {
   "cell_type": "code",
   "execution_count": 26,
   "metadata": {},
   "outputs": [
    {
     "data": {
      "text/plain": [
       "{'wit': 8491,\n",
       " 'walks': 8290,\n",
       " 'jsco': 4357,\n",
       " 'epi': 2970,\n",
       " 'look': 4735,\n",
       " '09064017305': 246,\n",
       " 'musta': 5246,\n",
       " 'uncles': 8033,\n",
       " 'modl': 5132,\n",
       " 'seat': 6728,\n",
       " 'speed': 7172,\n",
       " 'street': 7337,\n",
       " 'brief': 1714,\n",
       " 'videosounds': 8203,\n",
       " 'paris': 5730,\n",
       " 'freemsg': 3380,\n",
       " 'skip': 6990,\n",
       " 'docks': 2693,\n",
       " 'probs': 6126,\n",
       " 'andre': 1099,\n",
       " 'total': 7873,\n",
       " 'necklace': 5321,\n",
       " 'lasting': 4546,\n",
       " '9yt': 849,\n",
       " 'iwas': 4261,\n",
       " 'rayan': 6291,\n",
       " '6th': 698,\n",
       " 'video': 8198,\n",
       " 'extract': 3093,\n",
       " 'posible': 5997,\n",
       " 'meet': 4987,\n",
       " 'foregate': 3326,\n",
       " 'lit': 4684,\n",
       " '01223585236': 6,\n",
       " 'module': 5133,\n",
       " 'smokes': 7048,\n",
       " 'swhrt': 7500,\n",
       " 'handle': 3745,\n",
       " 'meive': 4996,\n",
       " 'alaipayuthe': 1023,\n",
       " 'dates': 2465,\n",
       " 'unclaimed': 8031,\n",
       " 'update_now': 8092,\n",
       " 'lookin': 4738,\n",
       " 'whos': 8440,\n",
       " 'keeping': 4415,\n",
       " 'way': 8341,\n",
       " 'sell': 6763,\n",
       " 'gnt': 3569,\n",
       " '7th': 728,\n",
       " 'barring': 1409,\n",
       " '5k': 644,\n",
       " 'noun': 5450,\n",
       " 'groovy': 3671,\n",
       " 'section': 6738,\n",
       " '4got': 596,\n",
       " 'rearrange': 6326,\n",
       " 'babysit': 1360,\n",
       " 'claim': 2067,\n",
       " 'relocate': 6403,\n",
       " 'shampain': 6830,\n",
       " 'weaknesses': 8349,\n",
       " 'exchanged': 3051,\n",
       " 'rgds': 6507,\n",
       " 'fonin': 3312,\n",
       " 'suppliers': 7453,\n",
       " 'considering': 2240,\n",
       " 'marsms': 4924,\n",
       " '20': 398,\n",
       " 'infra': 4153,\n",
       " 'drama': 2761,\n",
       " 'gonnamissu': 3596,\n",
       " '255': 426,\n",
       " 'gayle': 3491,\n",
       " 'rebel': 6332,\n",
       " 'headstart': 3812,\n",
       " 'afternoon': 977,\n",
       " '80155': 739,\n",
       " 'offer': 5518,\n",
       " 'heater': 3825,\n",
       " 'sometme': 7102,\n",
       " 'wotu': 8560,\n",
       " 'ibhltd': 4040,\n",
       " 'hav': 3790,\n",
       " 'mega': 4993,\n",
       " 'bari': 1403,\n",
       " 'sunshine': 7444,\n",
       " 'lovejen': 4771,\n",
       " 'choices': 2045,\n",
       " 'lifebook': 4631,\n",
       " 'fellow': 3180,\n",
       " 'ki': 4433,\n",
       " '75max': 712,\n",
       " 'dialogue': 2598,\n",
       " '09058097218': 214,\n",
       " 'triple': 7927,\n",
       " 'yest': 8652,\n",
       " 'fit': 3250,\n",
       " 'tonights': 7845,\n",
       " 'dvg': 2826,\n",
       " 'slices': 7010,\n",
       " '0870737910216yrs': 97,\n",
       " 'notes': 5441,\n",
       " 'blacko': 1569,\n",
       " 'latelyxxx': 4549,\n",
       " 'wicket': 8446,\n",
       " 'melle': 4998,\n",
       " 'problem': 6120,\n",
       " 'future': 3451,\n",
       " 'lying': 4820,\n",
       " 'natalja': 5296,\n",
       " 'jumpers': 4370,\n",
       " 'selfish': 6761,\n",
       " 'eurodisinc': 3006,\n",
       " 'choice': 2044,\n",
       " 'mmm': 5106,\n",
       " 'sc': 6685,\n",
       " 'eshxxxxxxxxxxx': 2992,\n",
       " 'breezy': 1709,\n",
       " 'lord': 4748,\n",
       " 'band': 1386,\n",
       " '02085076972': 13,\n",
       " 'reminds': 6418,\n",
       " 'often': 5530,\n",
       " 'zaher': 8698,\n",
       " 'abnormally': 869,\n",
       " 'great': 3655,\n",
       " 'pears': 5788,\n",
       " 'incomm': 4125,\n",
       " 'rd': 6299,\n",
       " '08718727870': 167,\n",
       " 'shitinnit': 6870,\n",
       " 'pay': 5770,\n",
       " 'nvm': 5479,\n",
       " 'jaklin': 4275,\n",
       " 'sooner': 7117,\n",
       " 'feel': 3171,\n",
       " 'watchin': 8328,\n",
       " 'dangerous': 2447,\n",
       " 'weighed': 8378,\n",
       " 'toll': 7828,\n",
       " 'saturday': 6670,\n",
       " 'anyway': 1145,\n",
       " 'along': 1052,\n",
       " 'raping': 6283,\n",
       " 'natalie2k9': 5295,\n",
       " 'eyed': 3097,\n",
       " 'dan': 2439,\n",
       " 'satthen': 6669,\n",
       " 'incorrect': 4129,\n",
       " 'affectionate': 966,\n",
       " 'mind': 5055,\n",
       " 'bloo': 1594,\n",
       " 'forgot': 3336,\n",
       " '83355': 765,\n",
       " 'calculation': 1824,\n",
       " 'protect': 6165,\n",
       " 'hero': 3857,\n",
       " 'careless': 1886,\n",
       " 'jungle': 4372,\n",
       " 'n9dx': 5264,\n",
       " 'hospital': 3959,\n",
       " 'prayers': 6051,\n",
       " 'lololo': 4726,\n",
       " 'ambrith': 1070,\n",
       " 'rto': 6583,\n",
       " 'petticoatdreams': 5836,\n",
       " 'original': 5624,\n",
       " 'shit': 6867,\n",
       " 'lvblefrnd': 4817,\n",
       " 'seconds': 6732,\n",
       " 'lunchtime': 4807,\n",
       " '9ja': 845,\n",
       " 'toplay': 7860,\n",
       " 'lotsly': 4758,\n",
       " 'housewives': 3975,\n",
       " 'gosh': 3612,\n",
       " 'fighting': 3204,\n",
       " '60p': 659,\n",
       " 'accident': 892,\n",
       " 'eyes': 3098,\n",
       " 'videophones': 8200,\n",
       " 'worry': 8553,\n",
       " 'tech': 7596,\n",
       " 'calld': 1834,\n",
       " 'tomorro': 7834,\n",
       " '50award': 620,\n",
       " '9t': 847,\n",
       " 'locaxx': 4710,\n",
       " '1120': 313,\n",
       " 'register': 6386,\n",
       " 'miserable': 5077,\n",
       " '4my': 602,\n",
       " '45239': 577,\n",
       " 'duo': 2818,\n",
       " '08712405022': 124,\n",
       " 'fa': 3100,\n",
       " 'compliments': 2198,\n",
       " '447801259231': 568,\n",
       " 'october': 5508,\n",
       " 'ileave': 4080,\n",
       " 'or2optout': 5605,\n",
       " 'ihave': 4074,\n",
       " 'prescripiton': 6073,\n",
       " 'cab': 1815,\n",
       " 'havebeen': 3795,\n",
       " 'somone': 7107,\n",
       " 'earlier': 2834,\n",
       " 'timing': 7774,\n",
       " 'either': 2889,\n",
       " 'diamond': 2599,\n",
       " 'dysentry': 2829,\n",
       " 'salon': 6636,\n",
       " 'biro': 1554,\n",
       " 'registered': 6387,\n",
       " 'seeds': 6744,\n",
       " 'g2': 3455,\n",
       " 'mails': 4873,\n",
       " 'pest': 5831,\n",
       " 'high': 3875,\n",
       " 'phrase': 5859,\n",
       " '08707808226': 101,\n",
       " 'howdy': 3981,\n",
       " '0871277810910p': 129,\n",
       " 'laughed': 4555,\n",
       " 'cusoon': 2407,\n",
       " 'curry': 2405,\n",
       " 'scallies': 6686,\n",
       " 'tomorw': 7836,\n",
       " 'outfit': 5649,\n",
       " 'by': 1811,\n",
       " 'tscs08714740323': 7952,\n",
       " 'desk': 2567,\n",
       " 'buttheres': 1796,\n",
       " 'bold2': 1617,\n",
       " '24': 419,\n",
       " 'dlf': 2684,\n",
       " 'poking': 5961,\n",
       " '82277': 754,\n",
       " 'shitstorm': 6872,\n",
       " 'dead': 2479,\n",
       " 'mostly': 5173,\n",
       " 'added': 929,\n",
       " 'hav2hear': 3791,\n",
       " 'crushes': 2368,\n",
       " 'hardly': 3773,\n",
       " 'ko': 4477,\n",
       " 'stays': 7278,\n",
       " 'monthlysubscription': 5158,\n",
       " 'freinds': 3383,\n",
       " 'sickness': 6928,\n",
       " 'travel': 7909,\n",
       " 'swimsuit': 7502,\n",
       " 'members': 5003,\n",
       " 'rite': 6534,\n",
       " 'its': 4253,\n",
       " 'ger': 3521,\n",
       " 'tlk': 7794,\n",
       " 'dollars': 2720,\n",
       " 'raji': 6264,\n",
       " 'realy': 6324,\n",
       " '50': 616,\n",
       " 'extra': 3092,\n",
       " 'heads': 3810,\n",
       " 'crckt': 2340,\n",
       " 'laxinorficated': 4563,\n",
       " '310303': 503,\n",
       " 'phd': 5842,\n",
       " 'wright': 8572,\n",
       " 'luvs': 4813,\n",
       " 'advising': 958,\n",
       " 'abi': 864,\n",
       " 'comedy': 2164,\n",
       " 'bubbletext': 1757,\n",
       " 'armand': 1214,\n",
       " 'predictive': 6059,\n",
       " 'madstini': 4856,\n",
       " 'surrender': 7472,\n",
       " 'thts': 7749,\n",
       " 'sips': 6963,\n",
       " 'console': 2242,\n",
       " 'loving': 4779,\n",
       " '4get': 594,\n",
       " 'antibiotic': 1132,\n",
       " 'logged': 4716,\n",
       " 'accommodation': 894,\n",
       " 'ugadi': 8009,\n",
       " 'camry': 1852,\n",
       " 'stayed': 7275,\n",
       " 'squishy': 7233,\n",
       " 'saeed': 6620,\n",
       " 'eviction': 3032,\n",
       " 'jo': 4325,\n",
       " 'bedreal': 1470,\n",
       " 'sunday': 7437,\n",
       " 'callin': 1840,\n",
       " 'bcm1896wc1n3xx': 1442,\n",
       " 'spark': 7158,\n",
       " 'cstore': 2376,\n",
       " 'recovery': 6359,\n",
       " 'isn': 4240,\n",
       " 'nobody': 5403,\n",
       " 'possessive': 6002,\n",
       " 'mathe': 4942,\n",
       " 'official': 5524,\n",
       " 'checkboxes': 1990,\n",
       " 'wear': 8351,\n",
       " 'colourful': 2155,\n",
       " 'remove': 6421,\n",
       " 'listened2the': 4678,\n",
       " 'needy': 5329,\n",
       " 'wamma': 8297,\n",
       " 'messy': 5028,\n",
       " 'ie': 4066,\n",
       " 'aptitude': 1188,\n",
       " 'election': 2898,\n",
       " 'remembrs': 6413,\n",
       " 'gotmarried': 3619,\n",
       " 'website': 8361,\n",
       " 'aftr': 980,\n",
       " 'cougar': 2298,\n",
       " '08715203652': 139,\n",
       " 'worth': 8557,\n",
       " 'orig': 5623,\n",
       " 'tata': 7566,\n",
       " 'visit': 8224,\n",
       " 'goodies': 3600,\n",
       " 'iz': 4263,\n",
       " 'wizzle': 8501,\n",
       " '750': 710,\n",
       " 'l8tr': 4500,\n",
       " 'site': 6970,\n",
       " 'spotty': 7217,\n",
       " '3uz': 540,\n",
       " 'phne': 5847,\n",
       " 'rejected': 6392,\n",
       " 'swalpa': 7482,\n",
       " 'potter': 6017,\n",
       " 'passable': 5748,\n",
       " '0quit': 296,\n",
       " 'knock': 4470,\n",
       " 'promised': 6147,\n",
       " 'chgs': 2015,\n",
       " 'applyed': 1170,\n",
       " '730': 706,\n",
       " 'subtoitles': 7399,\n",
       " 'hunting': 4018,\n",
       " 'hear': 3817,\n",
       " 'due': 2810,\n",
       " 'gr8': 3629,\n",
       " 'alto18': 1061,\n",
       " 'dinero': 2634,\n",
       " 'lecturer': 4592,\n",
       " 'sections': 6739,\n",
       " 'junna': 4373,\n",
       " '1winawk': 395,\n",
       " 'extreme': 3094,\n",
       " '84199': 775,\n",
       " '121': 326,\n",
       " 'sue': 7410,\n",
       " 'application': 1168,\n",
       " 'tigress': 7764,\n",
       " 'ibuprofens': 4045,\n",
       " 'noworriesloans': 5457,\n",
       " 'hui': 4005,\n",
       " '2morro': 460,\n",
       " 'woken': 8519,\n",
       " 'unni': 8074,\n",
       " 'created': 2342,\n",
       " 'celeb': 1931,\n",
       " 'winner': 8474,\n",
       " 'roads': 6538,\n",
       " 'bx526': 1810,\n",
       " 'restrictions': 6483,\n",
       " 'pthis': 6184,\n",
       " 'tron': 7932,\n",
       " 'reflection': 6374,\n",
       " 'mall': 4886,\n",
       " 'files': 3211,\n",
       " '63miles': 668,\n",
       " 'asp': 1255,\n",
       " 'dirty': 2648,\n",
       " 'monday': 5145,\n",
       " '5pm': 648,\n",
       " 'termsapply': 7629,\n",
       " 'concert': 2213,\n",
       " 'brilliant': 1717,\n",
       " 'weiyi': 8385,\n",
       " '09066368470': 269,\n",
       " 'minimum': 5061,\n",
       " 'distance': 2670,\n",
       " 'speedchat': 7173,\n",
       " 'shore': 6885,\n",
       " 'fine': 3229,\n",
       " 'dudes': 2808,\n",
       " 'amla': 1075,\n",
       " 'yep': 8649,\n",
       " 'theater': 7677,\n",
       " 'portege': 5992,\n",
       " '08712400200': 114,\n",
       " 'nimbomsons': 5387,\n",
       " '113': 314,\n",
       " 'haircut': 3729,\n",
       " 'aco': 911,\n",
       " 'registration': 6388,\n",
       " 'polyph': 5971,\n",
       " 'foundurself': 3353,\n",
       " 'freaking': 3370,\n",
       " 'chase': 1976,\n",
       " 'anjie': 1107,\n",
       " '0870753331018': 100,\n",
       " 'malaria': 4883,\n",
       " 'followin': 3304,\n",
       " 'march': 4910,\n",
       " 'goverment': 3624,\n",
       " 'pop': 5984,\n",
       " 'peak': 5787,\n",
       " 'raised': 6261,\n",
       " 'prevent': 6089,\n",
       " 'perhaps': 5810,\n",
       " 'imin': 4093,\n",
       " '8ball': 820,\n",
       " 'unsubscribe': 8081,\n",
       " 'sofa': 7078,\n",
       " 'receipts': 6339,\n",
       " 'sec': 6729,\n",
       " 'province': 6171,\n",
       " '0844': 70,\n",
       " 'cruise': 2366,\n",
       " 'player': 5910,\n",
       " 'bailiff': 1374,\n",
       " 'damn': 2438,\n",
       " 'aust': 1308,\n",
       " 'applebees': 1166,\n",
       " '6missed': 694,\n",
       " 'hottest': 3969,\n",
       " 'configure': 2221,\n",
       " 'mus': 5239,\n",
       " 'reality': 6318,\n",
       " 's89': 6611,\n",
       " 'fast': 3146,\n",
       " 'box403': 1667,\n",
       " 'sent': 6781,\n",
       " 'poop': 5980,\n",
       " 'jd': 4297,\n",
       " 'pounds': 6021,\n",
       " 'toot': 7854,\n",
       " 'chords': 2049,\n",
       " 'nipost': 5391,\n",
       " 'interviw': 4196,\n",
       " 'installing': 4176,\n",
       " 'educational': 2866,\n",
       " 'optimistic': 5600,\n",
       " 'cali': 1825,\n",
       " 'atten': 1286,\n",
       " 'trust': 7943,\n",
       " 'oncall': 5562,\n",
       " 'ffffffffff': 3191,\n",
       " 'significant': 6936,\n",
       " 'meal': 4969,\n",
       " 'rpl': 6575,\n",
       " 'holby': 3915,\n",
       " 'floating': 3279,\n",
       " 'vic': 8194,\n",
       " 'rate': 6284,\n",
       " 'digits': 2626,\n",
       " 'allah': 1042,\n",
       " 'soft': 7079,\n",
       " 'newsletter': 5365,\n",
       " 'attributed': 1295,\n",
       " 'issue': 4242,\n",
       " 'wan': 8298,\n",
       " 'ladies': 4511,\n",
       " 'neshanth': 5342,\n",
       " 'cbe': 1922,\n",
       " 'coast': 2124,\n",
       " 'owed': 5675,\n",
       " 'payments': 5778,\n",
       " 'still': 7302,\n",
       " 'subscrition': 7397,\n",
       " 'stressfull': 7341,\n",
       " '8pm': 823,\n",
       " 'nite': 5393,\n",
       " 'glad': 3556,\n",
       " 'kavalan': 4408,\n",
       " 'alert': 1028,\n",
       " 'evil': 3033,\n",
       " 'gotbabes': 3618,\n",
       " 'another': 1119,\n",
       " 'notifications': 5445,\n",
       " 'txtstar': 7995,\n",
       " 'smoke': 7046,\n",
       " '2mro': 463,\n",
       " 'cheesy': 2002,\n",
       " 'hadn': 3722,\n",
       " 'temple': 7618,\n",
       " 'listed': 4676,\n",
       " 'diamonds': 2600,\n",
       " 'makiing': 4880,\n",
       " 'smokin': 7049,\n",
       " 'receive': 6340,\n",
       " 'gaps': 3475,\n",
       " 'throwing': 7743,\n",
       " 'ten': 7619,\n",
       " 'sentence': 6782,\n",
       " 'bangb': 1389,\n",
       " '5p': 647,\n",
       " '2814032': 433,\n",
       " 'amore': 1082,\n",
       " 'katexxx': 4406,\n",
       " 'refreshed': 6377,\n",
       " 'ful': 3433,\n",
       " 'bday': 1450,\n",
       " 'manage': 4889,\n",
       " 'eldest': 2897,\n",
       " 'entire': 2958,\n",
       " 'cousin': 2316,\n",
       " '250': 424,\n",
       " '449050000301': 570,\n",
       " 'hanging': 3753,\n",
       " '08704439680': 94,\n",
       " 'finishing': 3236,\n",
       " 'coco': 2132,\n",
       " 'settle': 6801,\n",
       " 'dealer': 2481,\n",
       " 'building': 1769,\n",
       " 'tuth': 7973,\n",
       " 'beforehand': 1482,\n",
       " 'sn': 7058,\n",
       " 'resubmit': 6485,\n",
       " '10th': 311,\n",
       " 'tue': 7958,\n",
       " 'charges': 1969,\n",
       " '153': 361,\n",
       " 'flaky': 3261,\n",
       " 'piss': 5886,\n",
       " 'barry': 1410,\n",
       " 'luxury': 4815,\n",
       " 'dps': 2758,\n",
       " '13': 336,\n",
       " 'evrey': 3039,\n",
       " 'dem': 2537,\n",
       " 'dozens': 2757,\n",
       " 'member': 5002,\n",
       " 'sef': 6752,\n",
       " 'skyving': 6996,\n",
       " 'pc1323': 5782,\n",
       " 'tonght': 7842,\n",
       " 'respect': 6469,\n",
       " 'convey': 2263,\n",
       " 'renting': 6429,\n",
       " 'bishan': 1558,\n",
       " '3lp': 531,\n",
       " 'silently': 6942,\n",
       " 'teachers': 7587,\n",
       " 'paranoid': 5724,\n",
       " '150p': 352,\n",
       " 'quarter': 6227,\n",
       " 'broth': 1735,\n",
       " 'age16': 986,\n",
       " 'freaky': 3371,\n",
       " 'continue': 2254,\n",
       " 'tiempo': 7760,\n",
       " 'characters': 1966,\n",
       " 'evng': 3035,\n",
       " '89545': 815,\n",
       " 'aeroplane': 961,\n",
       " 'affairs': 964,\n",
       " 'sheet': 6844,\n",
       " 'ttyl': 7957,\n",
       " 'nat': 5292,\n",
       " 'formally': 3341,\n",
       " '82242': 753,\n",
       " 'minus': 5069,\n",
       " 'rvx': 6606,\n",
       " 'wildlife': 8459,\n",
       " 'app': 1160,\n",
       " '2ez': 446,\n",
       " 'ran': 6274,\n",
       " 'deep': 2507,\n",
       " 'neighbour': 5337,\n",
       " 'mcr': 4967,\n",
       " 'uh': 8012,\n",
       " 'lionm': 4668,\n",
       " 'helps': 3849,\n",
       " 'starring': 7258,\n",
       " 'wild': 8457,\n",
       " '09066358152': 259,\n",
       " 'beeen': 1473,\n",
       " 'eatin': 2850,\n",
       " '5mls': 646,\n",
       " '1013': 305,\n",
       " 'fone': 3309,\n",
       " '0089': 4,\n",
       " 'mca': 4964,\n",
       " 'px3748': 6218,\n",
       " 'force': 3324,\n",
       " 'salt': 6637,\n",
       " '87021': 790,\n",
       " 'alternative': 1059,\n",
       " 'manchester': 4893,\n",
       " 'irritation': 4231,\n",
       " 'bottle': 1649,\n",
       " '2kbsubject': 455,\n",
       " 'pg': 5837,\n",
       " 'done': 2726,\n",
       " 'bleh': 1579,\n",
       " 'better': 1519,\n",
       " 'shoul': 6894,\n",
       " 'tiring': 7780,\n",
       " 'dogg': 2706,\n",
       " 'ee': 2870,\n",
       " 'itcould': 4247,\n",
       " 'marine': 4914,\n",
       " 'fluids': 3288,\n",
       " 'cuddled': 2390,\n",
       " 'announced': 1113,\n",
       " 'ridden': 6514,\n",
       " 'sk38xh': 6982,\n",
       " 'vehicle': 8176,\n",
       " 'thx': 7754,\n",
       " 'stripes': 7348,\n",
       " 'reveal': 6498,\n",
       " 'velachery': 8177,\n",
       " 'consistently': 2241,\n",
       " 'phb1': 5841,\n",
       " 'although': 1060,\n",
       " 'gailxx': 3460,\n",
       " 'pouch': 6018,\n",
       " 'hundreds': 4012,\n",
       " 'bognor': 1615,\n",
       " 'sexiest': 6808,\n",
       " 'uptown': 8104,\n",
       " 'odi': 5510,\n",
       " 'creep': 2348,\n",
       " 'rounds': 6568,\n",
       " 'boy': 1674,\n",
       " 'truffles': 7940,\n",
       " 'previews': 6090,\n",
       " 'full': 3435,\n",
       " 'ambitious': 1069,\n",
       " 'wanna': 8301,\n",
       " 'atlanta': 1277,\n",
       " 'talent': 7543,\n",
       " 'thanks': 7662,\n",
       " '07973788240': 50,\n",
       " 'selfindependence': 6760,\n",
       " 'team': 7590,\n",
       " 'lido': 4627,\n",
       " 'stereophonics': 7291,\n",
       " 'gv': 3711,\n",
       " 'insha': 4169,\n",
       " 'oblivious': 5499,\n",
       " 'figures': 3208,\n",
       " 'world': 8548,\n",
       " 'sister': 6967,\n",
       " 'win150ppmx3age16': 8464,\n",
       " 'bc': 1438,\n",
       " 'machi': 4843,\n",
       " 'even': 3012,\n",
       " 'supplies': 7454,\n",
       " 'simply': 6949,\n",
       " 'satsgettin': 6668,\n",
       " 'deer': 2510,\n",
       " 'raviyog': 6289,\n",
       " 'gari': 3480,\n",
       " 'belongs': 1501,\n",
       " 'exterminator': 3091,\n",
       " '0721072': 29,\n",
       " 'changing': 1960,\n",
       " 'kiefer': 4443,\n",
       " 'threats': 7735,\n",
       " 'this': 7718,\n",
       " 'thanku': 7665,\n",
       " 'diet': 2614,\n",
       " 'drink': 2774,\n",
       " 'aslamalaikkum': 1253,\n",
       " 'ganesh': 3472,\n",
       " 'credits': 2347,\n",
       " 'textoperator': 7653,\n",
       " 'index': 4137,\n",
       " 'sae': 6619,\n",
       " 'game': 3468,\n",
       " 'washob': 8318,\n",
       " 'nearly': 5315,\n",
       " 'wow': 8567,\n",
       " '08718730666': 170,\n",
       " 'wonder': 8526,\n",
       " 'hmmmm': 3904,\n",
       " 'implications': 4101,\n",
       " 'fring': 3401,\n",
       " 'yuo': 8693,\n",
       " 'swashbuckling': 7486,\n",
       " 'placement': 5896,\n",
       " 'mmmm': 5107,\n",
       " 'amnow': 1079,\n",
       " 'rights': 6519,\n",
       " 'customers': 2413,\n",
       " 'preferably': 6061,\n",
       " 'hopeso': 3949,\n",
       " 'oble': 5497,\n",
       " 'refund': 6378,\n",
       " 'individual': 4142,\n",
       " '08717898035': 155,\n",
       " 'entry41': 2964,\n",
       " 'slacking': 6998,\n",
       " 'scrumptious': 6718,\n",
       " 'grams': 3637,\n",
       " 'hor': 3952,\n",
       " 'inviting': 4209,\n",
       " 'lifetime': 4633,\n",
       " 'signal': 6934,\n",
       " 'accumulation': 903,\n",
       " 'menu': 5015,\n",
       " 'sender': 6772,\n",
       " 'kalaachutaarama': 4391,\n",
       " 'flower': 3285,\n",
       " '180': 370,\n",
       " 'batt': 1428,\n",
       " 'eruku': 2985,\n",
       " 'poor': 5981,\n",
       " 'notebook': 5440,\n",
       " 'unemployed': 8049,\n",
       " 'jstfrnd': 4359,\n",
       " 'bcaz': 1439,\n",
       " 'cheap': 1984,\n",
       " '4eva': 591,\n",
       " 'tirunelvali': 7782,\n",
       " 'wise': 8483,\n",
       " 'offcampus': 5515,\n",
       " 'hppnss': 3988,\n",
       " '08707509020': 99,\n",
       " 'appreciated': 1175,\n",
       " 'anti': 1131,\n",
       " 'questions': 6234,\n",
       " 'eppolum': 2971,\n",
       " 'depends': 2552,\n",
       " 'cheese': 2001,\n",
       " 'masked': 4929,\n",
       " 'sensitive': 6780,\n",
       " 'version': 8185,\n",
       " 'la1': 4502,\n",
       " 'frankie': 3364,\n",
       " 'moms': 5143,\n",
       " '177': 368,\n",
       " 'romantic': 6554,\n",
       " 'dentists': 2546,\n",
       " 'hol': 3914,\n",
       " 'fwiw': 3453,\n",
       " 'cthen': 2379,\n",
       " 'presleys': 6079,\n",
       " 'remains': 6407,\n",
       " 'geting': 3526,\n",
       " 'pobox84': 5948,\n",
       " 'poly3': 5968,\n",
       " 'torture': 7868,\n",
       " 'found': 3352,\n",
       " 'ego': 2882,\n",
       " 'feet': 3178,\n",
       " 'buzz': 1805,\n",
       " 'matthew': 4951,\n",
       " 'moseley': 5171,\n",
       " 'roomate': 6558,\n",
       " 'talkbut': 7546,\n",
       " 'john': 4334,\n",
       " 'sayy': 6684,\n",
       " 'dontplease': 2732,\n",
       " 'costumes': 2296,\n",
       " 'train': 7891,\n",
       " 'bob': 1612,\n",
       " 'passion': 5751,\n",
       " 'waaaat': 8267,\n",
       " 'cocksuckers': 2131,\n",
       " 'barcelona': 1400,\n",
       " 'buddys': 1761,\n",
       " 'begging': 1485,\n",
       " 'bare': 1401,\n",
       " 'speling': 7175,\n",
       " 'ree': 6367,\n",
       " 'childrens': 2027,\n",
       " '3g': 527,\n",
       " 'try': 7946,\n",
       " 'inform': 4150,\n",
       " 'uhhhhrmm': 8013,\n",
       " 'awaiting': 1330,\n",
       " 'gran': 3638,\n",
       " 'ring': 6522,\n",
       " '09099726553': 291,\n",
       " 'outgoing': 5651,\n",
       " '09066364349': 266,\n",
       " 'front': 3417,\n",
       " 'ends': 2932,\n",
       " 'inever': 4144,\n",
       " 'generally': 3509,\n",
       " '08709501522': 105,\n",
       " 'guaranteed': 3688,\n",
       " 'ymca': 8662,\n",
       " 'gimme': 3543,\n",
       " 'ahhh': 999,\n",
       " '2stoptxt': 477,\n",
       " 'aretaking': 1201,\n",
       " 'chillaxin': 2030,\n",
       " 'finance': 3224,\n",
       " 'spouse': 7218,\n",
       " 'getiing': 3525,\n",
       " 'possessiveness': 6003,\n",
       " 'aiya': 1013,\n",
       " 'andros': 1102,\n",
       " 'shanil': 6833,\n",
       " 'medicine': 4984,\n",
       " 'fetch': 3185,\n",
       " 'granite': 3643,\n",
       " 'popping': 5987,\n",
       " 'upgrade': 8093,\n",
       " '674': 674,\n",
       " 'bergkamp': 1511,\n",
       " 'nuerologist': 5467,\n",
       " 'nasty': 5291,\n",
       " 'doug': 2748,\n",
       " 'difficult': 2621,\n",
       " 'referin': 6371,\n",
       " 'lol': 4724,\n",
       " 'simpsons': 6950,\n",
       " 'tee': 7599,\n",
       " '09057039994': 200,\n",
       " 'strain': 7333,\n",
       " 'boss': 1643,\n",
       " 'pity': 5889,\n",
       " 'ma': 4835,\n",
       " 'dark': 2450,\n",
       " 'holiday': 3920,\n",
       " '09053750005': 198,\n",
       " 'whereare': 8424,\n",
       " 'allo': 1046,\n",
       " 'exhaust': 3061,\n",
       " 'je': 4298,\n",
       " 'mallika': 4887,\n",
       " 'max10mins': 4955,\n",
       " 'rightio': 6517,\n",
       " '35p': 514,\n",
       " 'meanwhile': 4977,\n",
       " 'huai': 3996,\n",
       " '50pmmorefrommobile2bremoved': 627,\n",
       " 'breeze': 1708,\n",
       " 'guitar': 3704,\n",
       " 'knickers': 4469,\n",
       " 'frosty': 3419,\n",
       " '220': 414,\n",
       " 'pretsorginta': 6086,\n",
       " 'box1146': 1658,\n",
       " 'sambar': 6641,\n",
       " 'waht': 8276,\n",
       " 'goigng': 3581,\n",
       " 'umma': 8023,\n",
       " 'confused': 2226,\n",
       " 'tortilla': 7867,\n",
       " 'kidz': 4442,\n",
       " 'scool': 6699,\n",
       " 'split': 7199,\n",
       " 'interested': 4188,\n",
       " 'glass': 3559,\n",
       " 'hamper': 3740,\n",
       " 'ish': 4236,\n",
       " 'starving': 7266,\n",
       " 'freek': 3378,\n",
       " 'jjc': 4324,\n",
       " 'mite': 5095,\n",
       " 'sacrifice': 6617,\n",
       " 'yummmm': 8689,\n",
       " 'prakasam': 6042,\n",
       " '4217': 558,\n",
       " 'croydon': 2362,\n",
       " 'ready': 6312,\n",
       " '69911': 687,\n",
       " 'swiss': 7504,\n",
       " 'hp': 3986,\n",
       " 'ears': 2839,\n",
       " 'caroline': 1894,\n",
       " 'jan': 4280,\n",
       " 'whenevr': 8421,\n",
       " 'something': 7099,\n",
       " 'smsservices': 7056,\n",
       " 'wallpaper': 8293,\n",
       " 'tui': 7961,\n",
       " '86688': 788,\n",
       " 'coins': 2139,\n",
       " 'face': 3103,\n",
       " 'postcode': 6010,\n",
       " '12mths': 335,\n",
       " 'onwards': 5576,\n",
       " 'enemy': 2934,\n",
       " 'teenager': 7600,\n",
       " 'patent': 5758,\n",
       " 'career': 1882,\n",
       " 'august': 1302,\n",
       " 'redeemable': 6364,\n",
       " 'space': 7149,\n",
       " 'weird': 8381,\n",
       " 'ml': 5104,\n",
       " 'makes': 4879,\n",
       " '08000839402': 56,\n",
       " 'weirdy': 8384,\n",
       " 'box334': 1663,\n",
       " 'sake': 6627,\n",
       " 'someplace': 7095,\n",
       " 'oops': 5582,\n",
       " 'gently': 3515,\n",
       " 'sorts': 7131,\n",
       " 'cc': 1923,\n",
       " 'promo': 6149,\n",
       " 'hallaq': 3737,\n",
       " '2003': 401,\n",
       " 'phyhcmk': 5860,\n",
       " 'mistakes': 5093,\n",
       " 'jones': 4346,\n",
       " '3lions': 530,\n",
       " 'cheek': 1996,\n",
       " 'nah': 5270,\n",
       " 'tai': 7533,\n",
       " '9153': 829,\n",
       " 'title': 7786,\n",
       " '0825': 68,\n",
       " 'wearing': 8352,\n",
       " 'sitll': 6971,\n",
       " 'answering': 1125,\n",
       " '31': 501,\n",
       " 'sum1': 7428,\n",
       " 'control': 2258,\n",
       " 'await': 1329,\n",
       " 'no': 5400,\n",
       " 'telediscount': 7604,\n",
       " 'gautham': 3487,\n",
       " 'knee': 4466,\n",
       " 'goin': 3582,\n",
       " 'garbage': 3477,\n",
       " '8007': 735,\n",
       " '449071512431': 571,\n",
       " 'nannys': 5286,\n",
       " '08712400603': 116,\n",
       " 'close': 2097,\n",
       " 'ing': 4155,\n",
       " 'org': 5619,\n",
       " 'mike': 5043,\n",
       " 'ore': 5615,\n",
       " 'network': 5349,\n",
       " 'shining': 6860,\n",
       " 'place': 5894,\n",
       " 'impressed': 4108,\n",
       " '545': 640,\n",
       " 'mutai': 5249,\n",
       " 'tex': 7641,\n",
       " 'thriller': 7738,\n",
       " 'blessings': 1583,\n",
       " 'trouser': 7935,\n",
       " 'daily': 2436,\n",
       " 'doublemins': 2744,\n",
       " 'wihtuot': 8454,\n",
       " 'wkly': 8506,\n",
       " 'recharged': 6349,\n",
       " 'trav': 7908,\n",
       " 'allowed': 1048,\n",
       " 'isaiah': 4234,\n",
       " 'checkup': 1995,\n",
       " 'ramaduth': 6272,\n",
       " 'sympathetic': 7513,\n",
       " 'hungry': 4014,\n",
       " 'watts': 8337,\n",
       " 'samantha': 6640,\n",
       " 'album': 1025,\n",
       " 'performed': 5808,\n",
       " 'accounting': 901,\n",
       " 'seh': 6753,\n",
       " 'reduce': 6366,\n",
       " 'posted': 6011,\n",
       " 'fromm': 3415,\n",
       " '40gb': 552,\n",
       " 'it': 4245,\n",
       " 'box326': 1662,\n",
       " 'submitted': 7384,\n",
       " 'ringtoneking': 6526,\n",
       " 'bluetoothhdset': 1604,\n",
       " 'storming': 7328,\n",
       " 'pierre': 5875,\n",
       " '00': 0,\n",
       " 'dedicated': 2505,\n",
       " 'previous': 6091,\n",
       " 'topped': 7861,\n",
       " 'gets': 3527,\n",
       " 'asap': 1239,\n",
       " 'opt': 5598,\n",
       " 'corvettes': 2288,\n",
       " 'roommates': 6560,\n",
       " 'hsbc': 3992,\n",
       " 'transaction': 7898,\n",
       " 'savamob': 6673,\n",
       " 'eng': 2936,\n",
       " 'causing': 1919,\n",
       " 'sara': 6654,\n",
       " 'loved': 4770,\n",
       " 'gee': 3502,\n",
       " ...}"
      ]
     },
     "execution_count": 26,
     "metadata": {},
     "output_type": "execute_result"
    }
   ],
   "source": [
    "vectorizer.vocabulary_"
   ]
  },
  {
   "cell_type": "code",
   "execution_count": 27,
   "metadata": {},
   "outputs": [
    {
     "data": {
      "text/plain": [
       "<5572x8713 sparse matrix of type '<class 'numpy.int64'>'\n",
       "\twith 74169 stored elements in Compressed Sparse Row format>"
      ]
     },
     "execution_count": 27,
     "metadata": {},
     "output_type": "execute_result"
    }
   ],
   "source": [
    "X_bag_of_words = vectorizer.transform(df[\"message\"])\n",
    "X_bag_of_words"
   ]
  },
  {
   "cell_type": "code",
   "execution_count": 28,
   "metadata": {},
   "outputs": [
    {
     "data": {
      "text/plain": [
       "(5572, 8713)"
      ]
     },
     "execution_count": 28,
     "metadata": {},
     "output_type": "execute_result"
    }
   ],
   "source": [
    "X_bag_of_words.shape"
   ]
  },
  {
   "cell_type": "code",
   "execution_count": 29,
   "metadata": {},
   "outputs": [
    {
     "data": {
      "text/plain": [
       "array([[0, 0, 0, ..., 0, 0, 0],\n",
       "       [0, 0, 0, ..., 0, 0, 0],\n",
       "       [0, 0, 0, ..., 0, 0, 0],\n",
       "       ...,\n",
       "       [0, 0, 0, ..., 0, 0, 0],\n",
       "       [0, 0, 0, ..., 0, 0, 0],\n",
       "       [0, 0, 0, ..., 0, 0, 0]], dtype=int64)"
      ]
     },
     "execution_count": 29,
     "metadata": {},
     "output_type": "execute_result"
    }
   ],
   "source": [
    "X_bag_of_words.toarray()"
   ]
  },
  {
   "cell_type": "code",
   "execution_count": 30,
   "metadata": {},
   "outputs": [
    {
     "name": "stdout",
     "output_type": "stream",
     "text": [
      "U dun say so early hor... U c already then say...\n"
     ]
    }
   ],
   "source": [
    "message4 = df['message'][3]\n",
    "print(message4)\n"
   ]
  },
  {
   "cell_type": "code",
   "execution_count": 31,
   "metadata": {},
   "outputs": [
    {
     "name": "stdout",
     "output_type": "stream",
     "text": [
      "  (0, 1054)\t1\n",
      "  (0, 2815)\t1\n",
      "  (0, 2836)\t1\n",
      "  (0, 3952)\t1\n",
      "  (0, 6679)\t2\n",
      "  (0, 7074)\t1\n",
      "  (0, 7688)\t1\n",
      "(1, 8713)\n"
     ]
    }
   ],
   "source": [
    "bow4 = vectorizer.transform([message4])\n",
    "print(bow4)\n",
    "print(bow4.shape)"
   ]
  },
  {
   "cell_type": "code",
   "execution_count": 32,
   "metadata": {},
   "outputs": [
    {
     "name": "stdout",
     "output_type": "stream",
     "text": [
      "already\n",
      "say\n"
     ]
    }
   ],
   "source": [
    "print(vectorizer.get_feature_names()[1054])\n",
    "print(vectorizer.get_feature_names()[6679])"
   ]
  },
  {
   "cell_type": "code",
   "execution_count": 33,
   "metadata": {},
   "outputs": [
    {
     "data": {
      "text/plain": [
       "TfidfVectorizer(analyzer='word', binary=False, decode_error='strict',\n",
       "        dtype=<class 'numpy.float64'>, encoding='utf-8', input='content',\n",
       "        lowercase=True, max_df=1.0, max_features=None, min_df=1,\n",
       "        ngram_range=(1, 1), norm='l2', preprocessor=None, smooth_idf=True,\n",
       "        stop_words=None, strip_accents=None, sublinear_tf=False,\n",
       "        token_pattern='(?u)\\\\b\\\\w\\\\w+\\\\b', tokenizer=None, use_idf=True,\n",
       "        vocabulary=None)"
      ]
     },
     "execution_count": 33,
     "metadata": {},
     "output_type": "execute_result"
    }
   ],
   "source": [
    "tfidf_vectorizer = TfidfVectorizer()\n",
    "tfidf_vectorizer.fit(df[\"message\"])"
   ]
  },
  {
   "cell_type": "code",
   "execution_count": 34,
   "metadata": {},
   "outputs": [
    {
     "name": "stdout",
     "output_type": "stream",
     "text": [
      "  (0, 7688)\t0.23932339200131514\n",
      "  (0, 7074)\t0.20366517080216648\n",
      "  (0, 6679)\t0.5877104328159917\n",
      "  (0, 3952)\t0.48883827585496475\n",
      "  (0, 2836)\t0.3531363589768002\n",
      "  (0, 2815)\t0.32530327883363347\n",
      "  (0, 1054)\t0.29385521640799583\n"
     ]
    }
   ],
   "source": [
    "tfidf4 = tfidf_vectorizer.transform([message4])\n",
    "print(tfidf4)\n"
   ]
  },
  {
   "cell_type": "code",
   "execution_count": null,
   "metadata": {},
   "outputs": [],
   "source": []
  },
  {
   "cell_type": "code",
   "execution_count": 35,
   "metadata": {},
   "outputs": [
    {
     "name": "stdout",
     "output_type": "stream",
     "text": [
      "{'the': 7, 'fox': 2, 'lazy': 4, 'jumped': 3, 'dog': 1, 'over': 5, 'quick': 6, 'brown': 0}\n",
      "\n",
      "idf=\n",
      "[1.69 1.29 1.29 1.69 1.69 1.69 1.69 1.  ]\n",
      "(1, 8)\n",
      "\n",
      "document1=\n",
      "[[0.36 0.28 0.28 0.36 0.36 0.36 0.36 0.43]]\n",
      "(1, 8)\n",
      "\n",
      "document2=\n",
      "[[0.   0.79 0.   0.   0.   0.   0.   0.61]]\n"
     ]
    }
   ],
   "source": [
    "from sklearn.feature_extraction.text import TfidfVectorizer\n",
    "# list of text documents\n",
    "text = [\"The quick brown fox jumped over the lazy dog.\",\n",
    "        \"The dog.\",\n",
    "        \"The fox\"]\n",
    "# create the transform\n",
    "vectorizer = TfidfVectorizer()\n",
    "# tokenize and build vocab\n",
    "vectorizer.fit(text)\n",
    "# summarize\n",
    "print(vectorizer.vocabulary_)\n",
    "print(\"\\nidf=\")\n",
    "print(vectorizer.idf_)\n",
    "# encode document\n",
    "vector1 = vectorizer.transform([text[0]])\n",
    "# summarize encoded vector\n",
    "print(vector1.shape)\n",
    "print(\"\\ndocument1=\")\n",
    "print(vector1.toarray())\n",
    "\n",
    "# encode document\n",
    "vector2 = vectorizer.transform([text[1]])\n",
    "# summarize encoded vector\n",
    "print(vector2.shape)\n",
    "print(\"\\ndocument2=\")\n",
    "print(vector2.toarray())\n",
    "# 'brown': 0, 'dog': 1, 'fox': 2, 'jumped': 3, 'lazy': 4, 'over': 5,'quick': 6,'the': 7 \n",
    "# Words appearing only in first document would have max frequence (quick, brown, jumped, over..)\n",
    "# words appearing in two of the three documents would have little less number\n",
    "# words appearing in all three documents (\"the\") is having assigned number 1."
   ]
  },
  {
   "cell_type": "markdown",
   "metadata": {},
   "source": [
    "#### How to use Keras for similar work"
   ]
  },
  {
   "cell_type": "markdown",
   "metadata": {},
   "source": [
    "Bag-of-Words with Keras The Keras Python library for deep learning also provides tools for encoding text using the bag-of words-model in the Tokenizer class.\n",
    "\n",
    "As above, the encoder must be trained on source documents and then can be used to encode training data, test data and any other data in the future. The API also has the benefit of performing basic tokenization prior to encoding the words.\n",
    "\n",
    "The snippet below demonstrates how to train and encode some small text documents using the Keras API and the ‘count’ type scoring of words."
   ]
  },
  {
   "cell_type": "code",
   "execution_count": 36,
   "metadata": {},
   "outputs": [
    {
     "name": "stderr",
     "output_type": "stream",
     "text": [
      "Using TensorFlow backend.\n"
     ]
    },
    {
     "name": "stdout",
     "output_type": "stream",
     "text": [
      "\n",
      "Word Counts=\n",
      "OrderedDict([('well', 1), ('done', 1), ('good', 1), ('work', 2), ('great', 1), ('effort', 1), ('nice', 1), ('excellent', 1)])\n",
      "\n",
      "DocumentCount=\n",
      "5\n",
      "\n",
      "Word Index=\n",
      "{'effort': 6, 'nice': 7, 'great': 5, 'good': 4, 'work': 1, 'excellent': 8, 'done': 3, 'well': 2}\n",
      "\n",
      "Word Docs=\n",
      "{'effort': 1, 'nice': 1, 'great': 1, 'good': 1, 'work': 2, 'excellent': 1, 'done': 1, 'well': 1}\n",
      "\n",
      "Encoded Docs=\n",
      "[[0. 0. 1. 1. 0. 0. 0. 0. 0.]\n",
      " [0. 1. 0. 0. 1. 0. 0. 0. 0.]\n",
      " [0. 0. 0. 0. 0. 1. 1. 0. 0.]\n",
      " [0. 1. 0. 0. 0. 0. 0. 1. 0.]\n",
      " [0. 0. 0. 0. 0. 0. 0. 0. 1.]]\n"
     ]
    }
   ],
   "source": [
    "from keras.preprocessing.text import Tokenizer\n",
    "# define 5 documents\n",
    "docs = ['Well done!',\n",
    "        'Good work',\n",
    "        'Great effort',\n",
    "        'nice work',\n",
    "        'Excellent!']\n",
    "# create the tokenizer\n",
    "t = Tokenizer()\n",
    "# fit the tokenizer on the documents\n",
    "t.fit_on_texts(docs)\n",
    "# summarize what was learned\n",
    "print(\"\\nWord Counts=\")\n",
    "print(t.word_counts)\n",
    "print(\"\\nDocumentCount=\")\n",
    "print(t.document_count)\n",
    "print(\"\\nWord Index=\")\n",
    "print(t.word_index)\n",
    "print(\"\\nWord Docs=\")\n",
    "print(t.word_docs)\n",
    "# integer encode documents\n",
    "encoded_docs = t.texts_to_matrix(docs, mode='count')\n",
    "print(\"\\nEncoded Docs=\")\n",
    "print(encoded_docs)"
   ]
  },
  {
   "cell_type": "code",
   "execution_count": 37,
   "metadata": {},
   "outputs": [
    {
     "name": "stdout",
     "output_type": "stream",
     "text": [
      "\n",
      "Encoded Test Docs=\n",
      "[[0. 0. 1. 1. 0. 0. 0. 0. 0.]\n",
      " [0. 1. 0. 0. 0. 0. 0. 0. 0.]\n",
      " [0. 0. 0. 0. 0. 1. 1. 0. 0.]\n",
      " [0. 1. 0. 0. 0. 0. 0. 1. 0.]\n",
      " [0. 1. 0. 0. 0. 0. 0. 0. 1.]]\n"
     ]
    }
   ],
   "source": [
    "# How to use on test text?\n",
    "test_docs = ['Very Well done!',\n",
    "        'Amazing work',\n",
    "        'effort Great',\n",
    "        'nice work',\n",
    "        'Excellent! work']\n",
    "\n",
    "encoded_test_docs = t.texts_to_matrix(test_docs, mode='count')\n",
    "print(\"\\nEncoded Test Docs=\")\n",
    "print(encoded_test_docs)"
   ]
  },
  {
   "cell_type": "markdown",
   "metadata": {},
   "source": [
    "##### Note: Word order in original sentence is not maintained in the representation"
   ]
  },
  {
   "cell_type": "code",
   "execution_count": null,
   "metadata": {},
   "outputs": [],
   "source": []
  }
 ],
 "metadata": {
  "kernelspec": {
   "display_name": "Python [conda env:Anaconda3]",
   "language": "python",
   "name": "conda-env-Anaconda3-py"
  },
  "language_info": {
   "codemirror_mode": {
    "name": "ipython",
    "version": 3
   },
   "file_extension": ".py",
   "mimetype": "text/x-python",
   "name": "python",
   "nbconvert_exporter": "python",
   "pygments_lexer": "ipython3",
   "version": "3.5.6"
  }
 },
 "nbformat": 4,
 "nbformat_minor": 2
}
